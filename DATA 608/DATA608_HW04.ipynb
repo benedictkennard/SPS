{
 "cells": [
  {
   "cell_type": "markdown",
   "metadata": {},
   "source": [
    "# Background\n",
    "\n",
    "Enterococcus is a fecal indicating bacteria that lives in the intestines of humans and other warm-blooded animals. Enterococcus (“Entero”) counts are useful as a water quality indicator due to their abundance in human sewage, correlation with many human pathogens and low abundance in sewage free environments. The United States Environmental Protection Agency (EPA) reports Entero counts as colonies (or cells) per 100 ml of water.\n",
    "\n",
    "The organization [Riverkeeper](http://www.riverkeeper.org/) has based its assessment of acceptable water quality on the 2012 Federal Recreational Water Quality Criteria from the US EPA. Unacceptable water is based on an illness rate of 32 per 1000 swimmers. The federal standard for unacceptable water quality is a single sample value of greater than 110 Enterococcus/100 mL, or five or more samples with a geometric mean (a weighted average) greater than 30 Enterococcus/100 mL.\n",
    "\n",
    "# Data\n",
    "\n",
    "Enterococcus levels in the Hudson River can be found [here](https://github.com/jzuniga123/SPS/blob/master/DATA%20608/riverkeeper_data_2013.csv). \n",
    "\n",
    "# Overview\n",
    "\n",
    "Data have not been cleaned and needs to be cleaned. Each question should be a separate dash app. A single app.py for each will be sufficient.\n",
    "\n",
    "## Dowload Data"
   ]
  },
  {
   "cell_type": "raw",
   "metadata": {},
   "source": [
    "%%bash\n",
    "wget https://raw.githubusercontent.com/jzuniga123/SPS/master/DATA%20608/riverkeeper_data_2013.csv"
   ]
  },
  {
   "cell_type": "markdown",
   "metadata": {},
   "source": [
    "# Python Libraries"
   ]
  },
  {
   "cell_type": "code",
   "execution_count": 45,
   "metadata": {},
   "outputs": [],
   "source": [
    "import pandas as pd\n",
    "from scipy.stats.mstats import gmean"
   ]
  },
  {
   "cell_type": "markdown",
   "metadata": {},
   "source": [
    "# Import Data"
   ]
  },
  {
   "cell_type": "code",
   "execution_count": 9,
   "metadata": {},
   "outputs": [],
   "source": [
    "df = pd.read_csv(\"riverkeeper_data_2013.csv\", parse_dates=['Date'])"
   ]
  },
  {
   "cell_type": "markdown",
   "metadata": {},
   "source": [
    "## Pre-process Data\n",
    "\n",
    "https://www.riverkeeper.org/water-quality/hudson-river/\n",
    "\n",
    "https://www.riverkeeper.org/water-quality/hudson-river/#table"
   ]
  },
  {
   "cell_type": "code",
   "execution_count": 32,
   "metadata": {},
   "outputs": [
    {
     "data": {
      "text/plain": [
       "Site                        object\n",
       "Date                datetime64[ns]\n",
       "EnteroCount                  int64\n",
       "FourDayRainTotal           float64\n",
       "SampleCount                  int64\n",
       "Acceptable                    bool\n",
       "dtype: object"
      ]
     },
     "execution_count": 32,
     "metadata": {},
     "output_type": "execute_result"
    }
   ],
   "source": [
    "df.dtypes"
   ]
  },
  {
   "cell_type": "code",
   "execution_count": 59,
   "metadata": {},
   "outputs": [
    {
     "data": {
      "text/html": [
       "<div>\n",
       "<style scoped>\n",
       "    .dataframe tbody tr th:only-of-type {\n",
       "        vertical-align: middle;\n",
       "    }\n",
       "\n",
       "    .dataframe tbody tr th {\n",
       "        vertical-align: top;\n",
       "    }\n",
       "\n",
       "    .dataframe thead th {\n",
       "        text-align: right;\n",
       "    }\n",
       "</style>\n",
       "<table border=\"1\" class=\"dataframe\">\n",
       "  <thead>\n",
       "    <tr style=\"text-align: right;\">\n",
       "      <th></th>\n",
       "      <th>Site</th>\n",
       "      <th>Date</th>\n",
       "      <th>EnteroCount</th>\n",
       "      <th>FourDayRainTotal</th>\n",
       "      <th>SampleCount</th>\n",
       "      <th>Acceptable</th>\n",
       "    </tr>\n",
       "  </thead>\n",
       "  <tbody>\n",
       "    <tr>\n",
       "      <th>0</th>\n",
       "      <td>Hudson above Mohawk River</td>\n",
       "      <td>2011-10-16</td>\n",
       "      <td>1733</td>\n",
       "      <td>1.5</td>\n",
       "      <td>35</td>\n",
       "      <td>False</td>\n",
       "    </tr>\n",
       "    <tr>\n",
       "      <th>1</th>\n",
       "      <td>Hudson above Mohawk River</td>\n",
       "      <td>2013-10-21</td>\n",
       "      <td>4</td>\n",
       "      <td>0.2</td>\n",
       "      <td>35</td>\n",
       "      <td>True</td>\n",
       "    </tr>\n",
       "    <tr>\n",
       "      <th>2</th>\n",
       "      <td>Hudson above Mohawk River</td>\n",
       "      <td>2013-09-21</td>\n",
       "      <td>20</td>\n",
       "      <td>0.0</td>\n",
       "      <td>35</td>\n",
       "      <td>True</td>\n",
       "    </tr>\n",
       "    <tr>\n",
       "      <th>3</th>\n",
       "      <td>Hudson above Mohawk River</td>\n",
       "      <td>2013-08-19</td>\n",
       "      <td>6</td>\n",
       "      <td>0.0</td>\n",
       "      <td>35</td>\n",
       "      <td>True</td>\n",
       "    </tr>\n",
       "    <tr>\n",
       "      <th>4</th>\n",
       "      <td>Hudson above Mohawk River</td>\n",
       "      <td>2013-07-21</td>\n",
       "      <td>31</td>\n",
       "      <td>0.0</td>\n",
       "      <td>35</td>\n",
       "      <td>True</td>\n",
       "    </tr>\n",
       "  </tbody>\n",
       "</table>\n",
       "</div>"
      ],
      "text/plain": [
       "                        Site       Date  EnteroCount  FourDayRainTotal  \\\n",
       "0  Hudson above Mohawk River 2011-10-16         1733               1.5   \n",
       "1  Hudson above Mohawk River 2013-10-21            4               0.2   \n",
       "2  Hudson above Mohawk River 2013-09-21           20               0.0   \n",
       "3  Hudson above Mohawk River 2013-08-19            6               0.0   \n",
       "4  Hudson above Mohawk River 2013-07-21           31               0.0   \n",
       "\n",
       "   SampleCount  Acceptable  \n",
       "0           35       False  \n",
       "1           35        True  \n",
       "2           35        True  \n",
       "3           35        True  \n",
       "4           35        True  "
      ]
     },
     "execution_count": 59,
     "metadata": {},
     "output_type": "execute_result"
    }
   ],
   "source": [
    "# df['Date'].dt.strftime('%Y-%m-%d')\n",
    "df['EnteroCount'] = df['EnteroCount'].replace('[^\\d]', '', regex=True).astype(int)\n",
    "df['Acceptable'] = df['EnteroCount'] <= 60\n",
    "df.head()"
   ]
  },
  {
   "cell_type": "code",
   "execution_count": 96,
   "metadata": {},
   "outputs": [
    {
     "data": {
      "text/plain": [
       "(Hudson above Mohawk River, 2011-10-16 00:00:00)   NaN\n",
       "(Hudson above Mohawk River, 2013-10-21 00:00:00)   NaN\n",
       "(Hudson above Mohawk River, 2013-09-21 00:00:00)   NaN\n",
       "(Hudson above Mohawk River, 2013-08-19 00:00:00)   NaN\n",
       "(Hudson above Mohawk River, 2013-07-21 00:00:00)   NaN\n",
       "Name: EnteroCount, dtype: float64"
      ]
     },
     "execution_count": 96,
     "metadata": {},
     "output_type": "execute_result"
    }
   ],
   "source": [
    "# group by year, rolling geomtric mean take mean of last five samples\n",
    "# https://pandas.pydata.org/pandas-docs/stable/computation.html#time-aware-rolling\n",
    "# \n",
    "# df.groupby(['Site']).mean().head()\n",
    "# df.groupby(['Site']).rolling(5, on='EnteroCount', closed='both').sum()\n",
    "# test = pd.DataFrame(df[['EnteroCount']], index = df[['Site', 'Date']])\n",
    "test = pd.Series(df['EnteroCount'], index = df[['Site', 'Date']])\n",
    "# test.set_index(df[['Site', 'Date']])\n",
    "# test = df[['Site', 'Date', 'EnteroCount']]\n",
    "# dt_index = pd.to_datetime(test['Date'], format = '%Y-%m-%d')\n",
    "# test.set_index(dt_index)\n",
    "test.head()"
   ]
  },
  {
   "cell_type": "markdown",
   "metadata": {},
   "source": [
    "# Question 1\n",
    "\n",
    "You’re a civic hacker and kayak enthusiast who just came across this dataset. You’d like to create an app that recommends launch sites to users. Ideally an app like this will use live data to give current recommendations, but you’re still in the testing phase. Create a prototype that allows a user to pick a date, and will give its recommendations for that particular date.\n",
    "\n",
    "Think about your recommendations . You’re given federal guidelines above, but you may still need to make some assumptions about which sites to recommend. Consider your audience. Users will appreciate some information explaining why a particular site is flagged as unsafe, but they’re not scientists."
   ]
  },
  {
   "cell_type": "code",
   "execution_count": null,
   "metadata": {
    "collapsed": true
   },
   "outputs": [],
   "source": []
  },
  {
   "cell_type": "markdown",
   "metadata": {},
   "source": [
    "# Question 2\n",
    "\n",
    "This time you are building an app for scientists. You’re a public health researcher analyzing this data. You would like to know if there’s a relationship between the amount of rain and water quality. Create an exploratory app that allows other researchers to pick different sites and compare this relationship."
   ]
  },
  {
   "cell_type": "code",
   "execution_count": null,
   "metadata": {
    "collapsed": true
   },
   "outputs": [],
   "source": []
  },
  {
   "cell_type": "markdown",
   "metadata": {},
   "source": [
    "# References\n",
    "\n",
    "https://dash.plot.ly/\n",
    "\n",
    "https://github.com/plotly/dash-docs\n",
    "\n",
    "https://github.com/plotly/dash-docs/tree/master/tutorial\n",
    "\n",
    "***\n",
    "Thread: Dash Applicaton\n",
    "\n",
    "Dash user guide can be found here: https://dash.plot.ly/ github repository can be found here: https://github.com/plotly/dash-docs There's a folder named tutorial with many examples.\n",
    "***\n",
    "Thread: Dash Functionality\n",
    "\n",
    "Did anyone come across issues working with multi-select? Chrome Vs. Firefox browsers. For some reason, the multi-select option is not working in Chrome.\n",
    "***\n",
    "Thread: Calculations\n",
    "\n",
    "The following paragraph explains calculation for unacceptable water quality \"The federal standard for unacceptable water quality is a single sample value of greater than 110 Enterococcus/100 mL, or five or more samples with a geometric mean (a weighted average) greater than 30 Enterococcus/100 mL\" I notice \"SampleCount\" column has values ranging from 27 to 187. My question, how to apply geometric mean to the data? \n",
    "\n",
    "I took it to mean as the number of samples taken.  For example, some sites might have 65 samples.  I also ran into an issue manually counting the sample mean so I used the builtin function for scipy. And by trouble, I mean an overflow issue when using integers (if you are taking larger samples)\n",
    "\n",
    "Are you taking Date into account, some of the observations are from different years. \n",
    "\n",
    "No, I had sorted the values by date and then just took the last n samples to create the geometric mean.\n",
    "***\n",
    "Thread: Date Picker Problems  \n",
    "\n",
    "I'm getting problems when using the date picker. I had a static graph working, and put in a date picker to vary the graph by date. I have a couple  functions that estimate counts based on the closest observations. Any ideas on what I'm doing wrong? Github: https://github.com/AsherMeyers/DATA-608/blob/master/module4/question1/app.py\n",
    "\n",
    "To be honest I was toying with the data first, trying to understand what I have and how I can approach it; hence, I haven't started dash yet! ...but based on your output, it seems to me that there seems to be some sort of data type confusion there; it seems that you need data date/time type but it's passing it as string type. Perhaps that might the problem.\n",
    "\n",
    "have you set parse_dates=True, inside of pd.read_csv()?\n",
    "\n",
    "No but I did convert the dates after reading it in.\n",
    "\n",
    "I had to do both parse and the strftime in order for the dash app to read the dates correctly when being passed through the app. \n",
    "\n",
    "\tdf = pd.read_csv(\"riverkeeper_data_2013.csv\", parse_dates=['Date'])\n",
    "\tdf['Date']=df['Date'].dt.strftime('%Y-%m-%d')\n",
    "\n",
    "***\n",
    "Thread: [Errno 48] Address already in use  \n",
    "\n",
    "I keep getting this error after I successfully run the example dash app code found here: https://dash.plot.ly/getting-started, but I can do repeated runs as I update the code without completely shutting down my machine.\n",
    "\n",
    "\t$ ps -fA | grep python\n",
    "\n",
    "and then \n",
    "\n",
    "\t$ kill XXXX\n",
    "\n",
    "But it's not working...I don't know how to kill the server and then re-run the app. \n",
    "\n",
    "If you are ussing Ubuntu or linux, from terminal you can use (assuming you are running port 8050, if not just change it.\n",
    "\n",
    "\t~$ sudo kill $(sudo lsof -t -i:8050)\n",
    "    sudo kill $(sudo lsof -t -i:8050)\n",
    "\n",
    "It worked!!! Life saver!!!\n",
    "***\n",
    "Thread: Safety Calculations\n",
    "\n",
    "According to the assignment: \"The federal standard for unacceptable water quality is a single sample value of greater than 110 Enterococcus/100 mL, or five or more samples with a geometric mean (a weighted average) greater than 30 Enterococcus/100 mL.\" How do we calculate this from the total \"EnteroCount\" which I presume gives the total of all samples, and the SampleCount, which is self-explanatory? For safe levels, one calculation I'd do would be: EnteroCount / SampleCount. This would give the average so any number of samples greater than five and with a calculation over 30, would be unsafe. My question is how would I calculate the first criteria?\n",
    "\n",
    "I believe that the geometric average of All Samples for a single day in a single station are given already! Now, If you divide by the number of samples (as you have explained above) it will provide the wrong assumption of safety when in reality is not! that is for example if we have 60 EnteroCount Based on 5 Samples we know that it is NOT safe but if you divide it, it will return 12 making it \"SAFE\" but is NOT. From my perspective, we can apply the geometric mean to compare different stations or different days/time frames.\n",
    "\n",
    "I'm still confused. How would you use EnteroCount and SampleCount to create the two thresholds for safety?\n",
    "\n",
    "Easy...\"A geometric mean (GM) is a weighted average of multiple samples. If the GM exceeds 30, water is not considered safe for swimming\" You can use the EnteroCount as follows: to calculate for example: ACROSS ALL STATIONS. The SampleCount is used to calculate an Statistical Threshold Value.\n",
    "***\n",
    "6:57 PM - Mezu to Everyone: i read online that the solution is to set app.run_server(debug=False) ...have not tried it yet\n",
    "\n",
    "6:58 PM - Duubar Villalobos Jimenez to Everyone: yes, that \"problem\" occurs when is run as debug=True and then the code crash due to testing"
   ]
  }
 ],
 "metadata": {
  "kernelspec": {
   "display_name": "Python 3",
   "language": "python",
   "name": "python3"
  },
  "language_info": {
   "codemirror_mode": {
    "name": "ipython",
    "version": 3
   },
   "file_extension": ".py",
   "mimetype": "text/x-python",
   "name": "python",
   "nbconvert_exporter": "python",
   "pygments_lexer": "ipython3",
   "version": "3.6.4"
  }
 },
 "nbformat": 4,
 "nbformat_minor": 2
}
